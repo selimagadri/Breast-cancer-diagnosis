{
  "nbformat": 4,
  "nbformat_minor": 0,
  "metadata": {
    "kernelspec": {
      "display_name": "Python 3",
      "language": "python",
      "name": "python3"
    },
    "language_info": {
      "codemirror_mode": {
        "name": "ipython",
        "version": 3
      },
      "file_extension": ".py",
      "mimetype": "text/x-python",
      "name": "python",
      "nbconvert_exporter": "python",
      "pygments_lexer": "ipython3",
      "version": "3.8.5"
    },
    "colab": {
      "name": "Merge_masks.ipynb",
      "provenance": [],
      "collapsed_sections": []
    }
  },
  "cells": [
    {
      "cell_type": "markdown",
      "metadata": {
        "id": "ZrFXqbETzx70"
      },
      "source": [
        "Ce travail a pour but de sommer les masques correspondant à une même vue. Après cette étape, on aura un nombre égal d'images mammographiques et de masques.\n",
        "\n",
        "Par exemple pour le Mass-Training_P_00044_RIGHT_CC, on trouve :\n",
        "\n",
        "* Mass-Training_P_00044_RIGHT_CC_1\n",
        "* Mass-Training_P_00044_RIGHT_CC_2\n",
        "* Mass-Training_P_00044_RIGHT_CC_3\n",
        "* Mass-Training_P_00044_RIGHT_CC_4\n",
        "\n",
        "On doit les mettre dans une seule image Mass-Training_P_00044_RIGHT_CC"
      ]
    },
    {
      "cell_type": "code",
      "metadata": {
        "id": "627RtcUHzHFY"
      },
      "source": [
        "#train_images\n",
        "import tensorflow as tf\n",
        "import os\n",
        "import random\n",
        "import numpy as np\n",
        "import cv2\n",
        "from tqdm import tqdm \n",
        "from PIL import Image\n",
        "\n",
        "from skimage.io import imread, imshow\n",
        "from skimage.transform import resize\n",
        "import matplotlib.pyplot as plt\n",
        "\n",
        "path_array=np.array([])\n",
        "masks = []"
      ],
      "execution_count": null,
      "outputs": []
    },
    {
      "cell_type": "code",
      "metadata": {
        "id": "W6aZt-A3zHFb",
        "outputId": "66f62158-83bc-4a87-f920-bad4c133e621"
      },
      "source": [
        "with tf.device('/device:GPU:0'):\n",
        "    MASK_DIR =  r'C:\\\\Users\\\\MSI\\\\Documents\\\\PFA\\\\\\dataset\\\\Officiel\\\\Original_masks_training\\\\calc_training_masks\\\\'\n",
        "    mask = os.listdir(MASK_DIR)\n",
        "    mask.sort()\n",
        "    for img in tqdm(mask):\n",
        "        path=os.path.join(MASK_DIR,img)\n",
        "        path_array=np.append(path_array,os.path.join(MASK_DIR,img))\n",
        "        img=cv2.imread(path,cv2.IMREAD_UNCHANGED)\n",
        "        masks.append(img)"
      ],
      "execution_count": null,
      "outputs": [
        {
          "output_type": "stream",
          "text": [
            "100%|██████████| 1546/1546 [00:32<00:00, 47.66it/s]\n"
          ],
          "name": "stderr"
        }
      ]
    },
    {
      "cell_type": "code",
      "metadata": {
        "id": "hwWz7DS8zHFe",
        "outputId": "97bf3b6c-6755-4930-ca6e-4ceafd12edbb"
      },
      "source": [
        "with tf.device('/device:GPU:0'):\n",
        "    MASK_DIR =  r'C:\\\\Users\\\\MSI\\\\Documents\\\\PFA\\\\\\dataset\\\\Officiel\\\\Original_masks_training\\\\mass_training_masks\\\\'\n",
        "    mask = os.listdir(MASK_DIR)\n",
        "    mask.sort()\n",
        "    for img in tqdm(mask):\n",
        "        path=os.path.join(MASK_DIR,img)\n",
        "        path_array=np.append(path_array,os.path.join(MASK_DIR,img))\n",
        "        img=cv2.imread(path,cv2.IMREAD_UNCHANGED)\n",
        "        masks.append(img)"
      ],
      "execution_count": null,
      "outputs": [
        {
          "output_type": "stream",
          "text": [
            "100%|██████████| 1318/1318 [01:01<00:00, 21.47it/s]\n"
          ],
          "name": "stderr"
        }
      ]
    },
    {
      "cell_type": "code",
      "metadata": {
        "id": "zj3RX8obzHFh",
        "outputId": "9cb42205-ab9c-40d4-af82-8cafd36118a5"
      },
      "source": [
        "len(masks)"
      ],
      "execution_count": null,
      "outputs": [
        {
          "output_type": "execute_result",
          "data": {
            "text/plain": [
              "2864"
            ]
          },
          "metadata": {
            "tags": []
          },
          "execution_count": 42
        }
      ]
    },
    {
      "cell_type": "code",
      "metadata": {
        "id": "PDgE2xzpzHFk"
      },
      "source": [
        "def split_name(path):\n",
        "    k=path\n",
        "    k=k.split(\".\")[0]\n",
        "    n=np.array(k)\n",
        "    n=str(n)\n",
        "    return n[:-2]"
      ],
      "execution_count": null,
      "outputs": []
    },
    {
      "cell_type": "code",
      "metadata": {
        "id": "xDRhI1_gzHFm",
        "outputId": "c694b174-75fa-4910-9fd7-51ac76096c17"
      },
      "source": [
        "array=[]\n",
        "for j in tqdm(range(len(path_array))) :\n",
        "    array.append(split_name(path_array[j]))"
      ],
      "execution_count": null,
      "outputs": [
        {
          "output_type": "stream",
          "text": [
            "100%|██████████| 2864/2864 [00:00<00:00, 143724.42it/s]\n"
          ],
          "name": "stderr"
        }
      ]
    },
    {
      "cell_type": "code",
      "metadata": {
        "id": "axYiNPMmzHFp",
        "outputId": "b04fe58a-e16f-45c4-ca67-d42c86c0e0ab"
      },
      "source": [
        "with tf.device('/device:GPU:0'):\n",
        "    for i in tqdm(range(len(path_array))) :\n",
        "        \n",
        "        while((np.array_equal(array[i-1],array[i])) and (i!=0)) :\n",
        "            \n",
        "            masks[i]=masks[i]+masks[i-1]\n",
        "            break  \n",
        "            \n",
        "        plt.imsave(f\"C:\\\\Users\\\\MSI\\\\Documents\\\\PFA\\\\dataset\\\\Preprocessed\\\\Masks_merged\\\\{path_array[i][98:-6]}.jpg\",masks[i], cmap=\"gray\")"
      ],
      "execution_count": null,
      "outputs": [
        {
          "output_type": "stream",
          "text": [
            "100%|██████████| 2864/2864 [35:23<00:00,  1.35it/s]\n"
          ],
          "name": "stderr"
        }
      ]
    },
    {
      "cell_type": "code",
      "metadata": {
        "id": "qIzIA4QhzHFs"
      },
      "source": [
        ""
      ],
      "execution_count": null,
      "outputs": []
    }
  ]
}